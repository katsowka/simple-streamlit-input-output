{
 "cells": [
  {
   "cell_type": "markdown",
   "id": "aaeb9920-bdfc-42a5-990d-c003b9bfe376",
   "metadata": {},
   "source": [
    "# Simple Streamlit App\n",
    "\n",
    "TO DO:\n",
    "\n",
    "choose 2 or 3 inputs, of different types (int, float, category)\n",
    "determine a simple calc based on input"
   ]
  },
  {
   "cell_type": "code",
   "execution_count": 1,
   "id": "f5a7d539-00b6-4ee1-b6c4-27d10ce0e459",
   "metadata": {},
   "outputs": [],
   "source": [
    "import numpy as np\n",
    "import pandas as pd\n",
    "import csv"
   ]
  },
  {
   "cell_type": "code",
   "execution_count": 14,
   "id": "fed739d2-6515-4847-83b3-6278815f10c5",
   "metadata": {},
   "outputs": [
    {
     "name": "stdout",
     "output_type": "stream",
     "text": [
      "<class 'pandas.core.frame.DataFrame'>\n",
      "Index: 1332 entries, 0 to 1339\n",
      "Data columns (total 10 columns):\n",
      " #   Column         Non-Null Count  Dtype  \n",
      "---  ------         --------------  -----  \n",
      " 0   PatientID      1332 non-null   int64  \n",
      " 1   age            1332 non-null   int64  \n",
      " 2   gender         1332 non-null   object \n",
      " 3   bmi            1332 non-null   float64\n",
      " 4   bloodpressure  1332 non-null   int64  \n",
      " 5   diabetic       1332 non-null   object \n",
      " 6   children       1332 non-null   int64  \n",
      " 7   smoker         1332 non-null   object \n",
      " 8   region         1332 non-null   object \n",
      " 9   claim          1332 non-null   float64\n",
      "dtypes: float64(2), int64(4), object(4)\n",
      "memory usage: 114.5+ KB\n"
     ]
    }
   ],
   "source": [
    "df = pd.read_csv(\"insurance_data.csv\", index_col=0) \n",
    "df.info()"
   ]
  },
  {
   "cell_type": "code",
   "execution_count": 15,
   "id": "13cd5c13-8849-4a81-881c-3ebb56d81d80",
   "metadata": {},
   "outputs": [
    {
     "data": {
      "text/plain": [
       "['southeast', 'northwest', 'southwest', 'northeast']"
      ]
     },
     "execution_count": 15,
     "metadata": {},
     "output_type": "execute_result"
    }
   ],
   "source": [
    "# genders = list(df['gender'].unique()) ## \n",
    "# genders\n",
    "regions = list(df['region'].unique()) ## \n",
    "regions"
   ]
  },
  {
   "cell_type": "code",
   "execution_count": 16,
   "id": "7fd81b9b-0a69-4b65-b73a-acc2a6e7d86b",
   "metadata": {},
   "outputs": [
    {
     "name": "stdout",
     "output_type": "stream",
     "text": [
      "min year = 18, max_year = 60\n"
     ]
    }
   ],
   "source": [
    "min_age = df['age'].min()\n",
    "max_age = df['age'].max()\n",
    "print(f\"min year = {min_year}, max_year = {max_year}\")"
   ]
  },
  {
   "cell_type": "code",
   "execution_count": 17,
   "id": "3e2b437d-25c1-4983-8e01-9d00821a5645",
   "metadata": {},
   "outputs": [],
   "source": [
    "selected_region = 'northwest'\n",
    "selected_age = 20\n",
    "filter_region = df['region'] == selected_region\n",
    "filter_age = df['age'] == selected_age"
   ]
  },
  {
   "cell_type": "code",
   "execution_count": 22,
   "id": "82680c77-158f-4f97-be14-d5e062cd0b06",
   "metadata": {},
   "outputs": [
    {
     "data": {
      "text/plain": [
       "4"
      ]
     },
     "execution_count": 22,
     "metadata": {},
     "output_type": "execute_result"
    }
   ],
   "source": [
    "len(df[(filter_region & filter_age)])"
   ]
  },
  {
   "cell_type": "code",
   "execution_count": 20,
   "id": "6bc29fce-0b97-455c-95a9-51c0fb8d1330",
   "metadata": {},
   "outputs": [
    {
     "data": {
      "text/plain": [
       "9644.712500000001"
      ]
     },
     "execution_count": 20,
     "metadata": {},
     "output_type": "execute_result"
    }
   ],
   "source": [
    "df[(filter_region & filter_age)]['claim'].mean()"
   ]
  },
  {
   "cell_type": "markdown",
   "id": "f2728e5c-92cc-4d0f-a542-8b668c4632f2",
   "metadata": {},
   "source": []
  }
 ],
 "metadata": {
  "kernelspec": {
   "display_name": "p_venv",
   "language": "python",
   "name": "p_venv"
  },
  "language_info": {
   "codemirror_mode": {
    "name": "ipython",
    "version": 3
   },
   "file_extension": ".py",
   "mimetype": "text/x-python",
   "name": "python",
   "nbconvert_exporter": "python",
   "pygments_lexer": "ipython3",
   "version": "3.12.2"
  }
 },
 "nbformat": 4,
 "nbformat_minor": 5
}
